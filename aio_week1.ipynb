{
 "cells": [
  {
   "cell_type": "markdown",
   "id": "ed8366fd-e319-4e99-aaab-10c5d316a397",
   "metadata": {},
   "source": [
    "**Question 1:**"
   ]
  },
  {
   "cell_type": "code",
   "execution_count": 191,
   "id": "5048fee8-0b6e-44f8-8e19-d38ba38865d7",
   "metadata": {},
   "outputs": [],
   "source": [
    "def excercise1(tp, fp, fn):\n",
    "    \n",
    "    result = True\n",
    "    all_int = True \n",
    "    \n",
    "    # Check if all inputs are integer: \n",
    "    if isinstance(tp, int)==False: \n",
    "        all_int = False\n",
    "        print('tp must be int')\n",
    "    if isinstance(fp, int)==False: \n",
    "        all_int = False\n",
    "        print('fp must be int')\n",
    "    if isinstance(fn, int)==False: \n",
    "        all_int = False\n",
    "        print('tn must be int')\n",
    "    else: \n",
    "        result = True\n",
    "        \n",
    "    # Check if all inputs are greater than 0: \n",
    "    if all_int == True and not (tp > 0 and fn > 0 and fn > 0) :\n",
    "        result = False\n",
    "        print('tp and fp and fn must be greater than zero')\n",
    "        \n",
    "    # Start calculating: \n",
    "    if result == True:\n",
    "        precision = tp/(tp+fp) \n",
    "        recall = tp/(tp+fn)\n",
    "        f1 = 2*((precision*recall)/(precision+recall))\n",
    "\n",
    "        print(\"Precision: \", precision)\n",
    "        print(\"Recall: \", precision)\n",
    "        print(\"F1 score: \", precision)"
   ]
  },
  {
   "cell_type": "markdown",
   "id": "c4f7f3e7-d81e-4a31-8f22-afd6a5262b15",
   "metadata": {},
   "source": [
    "**Question 2:**"
   ]
  },
  {
   "cell_type": "code",
   "execution_count": 226,
   "id": "6d988704-68fa-4442-b2e3-5dec379bb0ac",
   "metadata": {},
   "outputs": [],
   "source": [
    "import math\n",
    "\n",
    "def is_number(n):\n",
    "    try:\n",
    "        float(n)\n",
    "    except ValueError: \n",
    "        return False \n",
    "    return True\n",
    "\n",
    "\n",
    "def exercise2(func_name, x): \n",
    "    #Check if func_name is valid:\n",
    "    if func_name not in (['sigmoid','relu','elu']):\n",
    "        print(f\"{func_name} is not support\")\n",
    "    \n",
    "    #Check if x is a number: \n",
    "    if is_number(x) == False: \n",
    "        print('x must be a number')\n",
    "    else: \n",
    "        x_float = float(x)\n",
    "    \n",
    "    #Start calculating: \n",
    "    if func_name == 'sigmoid': \n",
    "        result = 1/(1+ math.exp(-x))\n",
    "    if func_name == 'relu' and x <= 0:\n",
    "        result = 0 \n",
    "    if func_name == 'relu' and x > 0:\n",
    "        result = x\n",
    "    if func_name == 'elu' and x<= 0: \n",
    "        alpha = 0.01\n",
    "        result = alpha*(math.exp(x)-1)\n",
    "    if func_name == 'elu' and x> 0: \n",
    "        result = x\n",
    "        \n",
    "    print(f\"{func_name}: f({x})={result}\")"
   ]
  },
  {
   "cell_type": "markdown",
   "id": "bd33ea4f-c28f-40ad-a317-a7782ec83f49",
   "metadata": {},
   "source": [
    "**Question 3:**"
   ]
  },
  {
   "cell_type": "code",
   "execution_count": 144,
   "id": "66b434d1-ac50-4f2e-8fbd-00175010180b",
   "metadata": {},
   "outputs": [],
   "source": [
    "import numpy \n",
    "import math\n",
    "def exercise3(num_samples, loss_name):\n",
    "    if not isinstance(num_samples, int):\n",
    "        print('number of samples must be integer number')\n",
    "    \n",
    "    y = [numpy.random.uniform(0,10) for _ in range(num_samples)]\n",
    "    y_pre = [numpy.random.uniform(0,10) for _ in range(num_samples)]\n",
    "    \n",
    "    if loss_name == 'mae':\n",
    "        abs_error = [abs(y - p) for y, p in zip(y, y_pre)]\n",
    "        loss = sum(abs_error)/num_samples\n",
    "    if loss_name == 'mse':\n",
    "        sqr_error = [pow((y-p),2) for y,p in zip(y, y_pre)]\n",
    "        loss = sum(sqr_error)/num_samples\n",
    "    if loss_name == 'rmse':\n",
    "        sqr_error = [pow((y-p),2) for y,p in zip(y, y_pre)]\n",
    "        loss = math.sqrt(sum(sqr_error)/num_samples)\n",
    "    \n",
    "    print(f\"Loss name: {loss_name},samples: {num_samples},pred:{y_pre}, target:{y}, loss:{loss}\")"
   ]
  },
  {
   "cell_type": "markdown",
   "id": "8f2fa552-e22f-4134-97dd-c73af54dab45",
   "metadata": {},
   "source": [
    "**Question 4:**"
   ]
  },
  {
   "cell_type": "code",
   "execution_count": 173,
   "id": "d93cbdec-b69a-4951-9343-f4b3cb272e38",
   "metadata": {},
   "outputs": [],
   "source": [
    "def approx_sin(x,n):\n",
    "    \n",
    "    pre_check = True\n",
    "    if not -2 * math.pi <= x <= 2 * math.pi:\n",
    "        pre_check = False\n",
    "        print('x must be radian') \n",
    "    if isinstance(n,int)==False or n<=0: \n",
    "        pre_check = False\n",
    "        print('n must be integer and greater than 0')\n",
    "    \n",
    "    if pre_check: \n",
    "        result = []\n",
    "        for n in range(0,n+1):\n",
    "            fac = math.factorial(2*n+1)\n",
    "            pow_x = pow(x,(2*n+1))\n",
    "            pow_1 = pow(-1,n)\n",
    "\n",
    "            sin = pow_1*(pow_x/fac)\n",
    "            result.append(sin)\n",
    "\n",
    "        final_sin = sum(result)\n",
    "        print(final_sin)"
   ]
  },
  {
   "cell_type": "code",
   "execution_count": 176,
   "id": "ffa1b972-58d2-49a6-8429-ff7dce51779c",
   "metadata": {},
   "outputs": [],
   "source": [
    "def approx_cos(x,n):\n",
    "    \n",
    "    pre_check = True\n",
    "    if not -2 * math.pi <= x <= 2 * math.pi:\n",
    "        pre_check = False\n",
    "        print('x must be radian') \n",
    "    if isinstance(n,int)==False or n<=0: \n",
    "        pre_check = False\n",
    "        print('n must be integer and greater than 0')\n",
    "    \n",
    "    if pre_check: \n",
    "        result = []\n",
    "        for n in range(0,n+1):\n",
    "            fac = math.factorial(2*n)\n",
    "            pow_x = pow(x,(2*n))\n",
    "            pow_1 = pow(-1,n)\n",
    "\n",
    "            cos = pow_1*(pow_x/fac)\n",
    "            result.append(cos)\n",
    "\n",
    "        final_sin = sum(result)\n",
    "        print(final_sin)"
   ]
  },
  {
   "cell_type": "code",
   "execution_count": 177,
   "id": "d98dbb6f-a458-457d-a19f-37dff8c44b93",
   "metadata": {},
   "outputs": [],
   "source": [
    "def approx_sinh(x,n):\n",
    "    \n",
    "    pre_check = True\n",
    "    if not -2 * math.pi <= x <= 2 * math.pi:\n",
    "        pre_check = False\n",
    "        print('x must be radian') \n",
    "    if isinstance(n,int)==False or n<=0: \n",
    "        pre_check = False\n",
    "        print('n must be integer and greater than 0')\n",
    "    \n",
    "    if pre_check: \n",
    "        result = []\n",
    "        for n in range(0,n+1):\n",
    "            fac = math.factorial(2*n+1)\n",
    "            pow_x = pow(x,(2*n+1))\n",
    "\n",
    "            sinh = (pow_x/fac)\n",
    "            result.append(sinh)\n",
    "\n",
    "        final_sin = sum(result)\n",
    "        print(final_sin)"
   ]
  },
  {
   "cell_type": "code",
   "execution_count": 178,
   "id": "b8cfa2a7-e447-4cbb-bace-29b574252e03",
   "metadata": {},
   "outputs": [],
   "source": [
    "def approx_cosh(x,n):\n",
    "    \n",
    "    pre_check = True\n",
    "    if not -2 * math.pi <= x <= 2 * math.pi:\n",
    "        pre_check = False\n",
    "        print('x must be radian') \n",
    "    if isinstance(n,int)==False or n<=0: \n",
    "        pre_check = False\n",
    "        print('n must be integer and greater than 0')\n",
    "    \n",
    "    if pre_check: \n",
    "        result = []\n",
    "        for n in range(0,n+1):\n",
    "            fac = math.factorial(2*n)\n",
    "            pow_x = pow(x,(2*n))\n",
    "\n",
    "            cosh = (pow_x/fac)\n",
    "            result.append(cosh)\n",
    "\n",
    "        final_sin = sum(result)\n",
    "        print(final_sin)"
   ]
  },
  {
   "cell_type": "markdown",
   "id": "8fc6ce6c-54d3-4b7e-a027-ede76f01f03d",
   "metadata": {},
   "source": [
    "**Question 5:**"
   ]
  },
  {
   "cell_type": "code",
   "execution_count": 182,
   "id": "0ececb64-ca69-4b39-b820-404ac9193ad3",
   "metadata": {},
   "outputs": [],
   "source": [
    "def md_nre_single_sample(y,y_hat,n,p):\n",
    "    \n",
    "    root_y = y**(1/n)\n",
    "    root_y_hat = y_hat**(1/n)\n",
    "    \n",
    "    single_md = pow((root_y - root_y_hat),p)\n",
    "    print(single_md)"
   ]
  },
  {
   "cell_type": "code",
   "execution_count": null,
   "id": "b08b1810-0f19-4fd3-8003-60053d5cbcc5",
   "metadata": {},
   "outputs": [],
   "source": []
  },
  {
   "cell_type": "code",
   "execution_count": null,
   "id": "c8ac3fe9-fb7e-40f2-9bcf-36e718effc01",
   "metadata": {},
   "outputs": [],
   "source": []
  }
 ],
 "metadata": {
  "kernelspec": {
   "display_name": "Python 3 (ipykernel)",
   "language": "python",
   "name": "python3"
  },
  "language_info": {
   "codemirror_mode": {
    "name": "ipython",
    "version": 3
   },
   "file_extension": ".py",
   "mimetype": "text/x-python",
   "name": "python",
   "nbconvert_exporter": "python",
   "pygments_lexer": "ipython3",
   "version": "3.9.7"
  }
 },
 "nbformat": 4,
 "nbformat_minor": 5
}
