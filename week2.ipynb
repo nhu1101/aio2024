{
 "cells": [
  {
   "cell_type": "markdown",
   "id": "37c7bc7f-b42d-407a-834e-e422bad0f8e2",
   "metadata": {},
   "source": [
    "**Exercise 1:**"
   ]
  },
  {
   "cell_type": "code",
   "execution_count": 24,
   "id": "12a1a1fa-4eb9-4c77-874b-cd3cfa450915",
   "metadata": {},
   "outputs": [],
   "source": [
    "def exercise1(input_list,k):\n",
    "    max_list = []\n",
    "    for i in range(0,len(input_list)):\n",
    "        if i != ((len(input_list)-k)+1):\n",
    "            slide = [input_list[i],input_list[i+1],input_list[i+2]]\n",
    "            max_values = max(slide)\n",
    "            max_list.append(max_values)\n",
    "        else: \n",
    "            break\n",
    "    \n",
    "    return max_list"
   ]
  },
  {
   "cell_type": "markdown",
   "id": "c5ec474a-97a4-46d1-ae39-97e4fd58b51b",
   "metadata": {},
   "source": [
    "**Exercise 2:**"
   ]
  },
  {
   "cell_type": "code",
   "execution_count": 34,
   "id": "a6a1b770-0d14-4426-b578-c4f75e7ef90e",
   "metadata": {},
   "outputs": [],
   "source": [
    "def exercise2(input_str):\n",
    "    count_letter = {}\n",
    "    \n",
    "    for i in input_str: \n",
    "        if i in count_letter:\n",
    "            count_letter[i] += 1\n",
    "        else: \n",
    "            count_letter[i] = 1\n",
    "    return count_letter"
   ]
  },
  {
   "cell_type": "markdown",
   "id": "a2c140a7-ace4-417d-b363-4898347de0f9",
   "metadata": {},
   "source": [
    "**Exercise 3:**"
   ]
  },
  {
   "cell_type": "code",
   "execution_count": 45,
   "id": "580270fa-62f4-4849-a5a7-2b3dee1fc27d",
   "metadata": {},
   "outputs": [],
   "source": [
    "file_path = \"P1_data.txt\""
   ]
  },
  {
   "cell_type": "code",
   "execution_count": 46,
   "id": "bb8e62dd-2637-4941-8e08-a8bf7775e6be",
   "metadata": {},
   "outputs": [],
   "source": [
    "with open(file_path, 'r') as file:\n",
    "    content = file.read()"
   ]
  },
  {
   "cell_type": "code",
   "execution_count": 59,
   "id": "0ce68028-f48e-48fe-af53-4542271dedf4",
   "metadata": {},
   "outputs": [],
   "source": [
    "def exercise3(content):\n",
    "    count_word = {}\n",
    "    \n",
    "    for word in content.split():\n",
    "        if word in count_word:\n",
    "            count_word[word] += 1\n",
    "        else: \n",
    "            count_word[word] = 1\n",
    "    return count_word"
   ]
  },
  {
   "cell_type": "markdown",
   "id": "b8b72230-d0e3-4d78-9927-8a00dbb266fc",
   "metadata": {},
   "source": [
    "**Exercise 4:**"
   ]
  },
  {
   "cell_type": "code",
   "execution_count": 62,
   "id": "f9c24fa1-3b62-4cbf-9dc8-b7684c6071a6",
   "metadata": {},
   "outputs": [],
   "source": [
    "def levenshtein_distance(token1, token2):\n",
    "    distances = [[0]*(len(token2)+1) for i in range(len(token1)+1)]\n",
    "\n",
    "    for t1 in range(len(token1) + 1):\n",
    "        distances[t1][0] = t1\n",
    "\n",
    "    for t2 in range(len(token2) + 1):\n",
    "        distances[0][t2] = t2\n",
    "\n",
    "    a = 0\n",
    "    b = 0\n",
    "    c = 0\n",
    "\n",
    "    for t1 in range(1, len(token1) + 1):\n",
    "        for t2 in range(1, len(token2) + 1):\n",
    "            if (token1[t1-1] == token2[t2-1]):\n",
    "                distances[t1][t2] = distances[t1 - 1][t2 - 1]\n",
    "            else:\n",
    "                a = distances[t1][t2 - 1]\n",
    "                b = distances[t1 - 1][t2]\n",
    "                c = distances[t1 - 1][t2 - 1]\n",
    "\n",
    "                if (a <= b and a <= c):\n",
    "                    distances[t1][t2] = a + 1\n",
    "                elif (b <= a and b <= c):\n",
    "                    distances[t1][t2] = b + 1\n",
    "                else:\n",
    "                    distances[t1][t2] = c + 1\n",
    "\n",
    "    return distances[len(token1)][len(token2)]"
   ]
  },
  {
   "cell_type": "code",
   "execution_count": null,
   "id": "05365bde-2bcd-4248-a02f-a1474dd68f48",
   "metadata": {},
   "outputs": [],
   "source": []
  }
 ],
 "metadata": {
  "kernelspec": {
   "display_name": "Python 3 (ipykernel)",
   "language": "python",
   "name": "python3"
  },
  "language_info": {
   "codemirror_mode": {
    "name": "ipython",
    "version": 3
   },
   "file_extension": ".py",
   "mimetype": "text/x-python",
   "name": "python",
   "nbconvert_exporter": "python",
   "pygments_lexer": "ipython3",
   "version": "3.9.7"
  }
 },
 "nbformat": 4,
 "nbformat_minor": 5
}
